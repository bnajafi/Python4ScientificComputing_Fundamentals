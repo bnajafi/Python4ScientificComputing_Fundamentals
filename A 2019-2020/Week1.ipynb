{
 "cells": [
  {
   "cell_type": "markdown",
   "metadata": {},
   "source": [
    "### Reminder Regarding dividing stuff in Python:\n",
    "IF you divide two integers: python considers this as an integer division !\n",
    "dividing one float by an integer: the result is always a float -> so we should convert one of them to float !"
   ]
  },
  {
   "cell_type": "code",
   "execution_count": 8,
   "metadata": {},
   "outputs": [
    {
     "name": "stdout",
     "output_type": "stream",
     "text": [
      "0.04\n"
     ]
    }
   ],
   "source": [
    "L = 2\n",
    "#k = 0.78 # float\n",
    "k = 1\n",
    "A = 50\n",
    "\n",
    "R= float(L) /(k*A)\n",
    "\n",
    "print(R)"
   ]
  },
  {
   "cell_type": "code",
   "execution_count": null,
   "metadata": {},
   "outputs": [],
   "source": []
  },
  {
   "cell_type": "code",
   "execution_count": null,
   "metadata": {},
   "outputs": [],
   "source": []
  },
  {
   "cell_type": "markdown",
   "metadata": {},
   "source": [
    "### reviewing Strings !\n"
   ]
  },
  {
   "cell_type": "code",
   "execution_count": 15,
   "metadata": {},
   "outputs": [
    {
     "name": "stdout",
     "output_type": "stream",
     "text": [
      "The value of R is 0.04 DegC/W\n"
     ]
    }
   ],
   "source": [
    "name1 = \"Santiago \"\n",
    "type(name1)\n",
    "name2 = \"Luca\"\n",
    "name3= 5 * name2\n",
    "namesInOrder = name1 + name2\n",
    "print(name3)\n",
    "print(\"The value of R is \"+str(R)+\" DegC/W\") # this just prints the R value"
   ]
  },
  {
   "cell_type": "code",
   "execution_count": 21,
   "metadata": {},
   "outputs": [],
   "source": [
    "f = 1\n",
    "f=float(f)"
   ]
  },
  {
   "cell_type": "code",
   "execution_count": 22,
   "metadata": {},
   "outputs": [
    {
     "data": {
      "text/plain": [
       "1.0"
      ]
     },
     "execution_count": 22,
     "metadata": {},
     "output_type": "execute_result"
    }
   ],
   "source": [
    "f = 21"
   ]
  },
  {
   "cell_type": "markdown",
   "metadata": {},
   "source": [
    "### Receiving input from the user\n",
    "Raw_input command\n",
    "Pay attention even if you write a number it gives you a string !!\n"
   ]
  },
  {
   "cell_type": "code",
   "execution_count": 29,
   "metadata": {},
   "outputs": [
    {
     "name": "stdout",
     "output_type": "stream",
     "text": [
      "Please insert the length of this layer: 0.05\n",
      "0.05\n",
      "0.00128205128205\n"
     ]
    }
   ],
   "source": [
    "L_string = raw_input(\"Please insert the length of this layer: \")\n",
    "k = 0.78\n",
    "A = 50\n",
    "\n",
    "L_val  = float(L_string)\n",
    "print(L_val)\n",
    "R= L_val/(k*A)\n",
    "print(R)"
   ]
  },
  {
   "cell_type": "code",
   "execution_count": null,
   "metadata": {},
   "outputs": [],
   "source": []
  },
  {
   "cell_type": "code",
   "execution_count": 17,
   "metadata": {},
   "outputs": [
    {
     "data": {
      "text/plain": [
       "'0.08'"
      ]
     },
     "execution_count": 17,
     "metadata": {},
     "output_type": "execute_result"
    }
   ],
   "source": [
    "L_string"
   ]
  },
  {
   "cell_type": "code",
   "execution_count": 31,
   "metadata": {},
   "outputs": [
    {
     "name": "stdout",
     "output_type": "stream",
     "text": [
      "Please insert the length of this layer: 0.05\n",
      "0.00128205128205\n"
     ]
    }
   ],
   "source": [
    "L = float(raw_input(\"Please insert the length of this layer: \"))\n",
    "k = 0.78\n",
    "A = 50\n",
    "R= L/(k*A)\n",
    "print(R)"
   ]
  },
  {
   "cell_type": "markdown",
   "metadata": {},
   "source": [
    "## Control : If statement \n",
    "Let's create a stupid and simple material library\n"
   ]
  },
  {
   "cell_type": "code",
   "execution_count": 40,
   "metadata": {},
   "outputs": [
    {
     "name": "stdout",
     "output_type": "stream",
     "text": [
      "Hi there I am wood!\n"
     ]
    }
   ],
   "source": [
    "component= \"wood 90mm\"\n",
    "if component == \"glass 6mm\":\n",
    "    k = 0.95  #W/mK\n",
    "    L = 0.006 #m\n",
    "    print(\"Hi there!\")\n",
    "elif component == \"wood 90mm\":\n",
    "    k= 0.4 #W/mK\n",
    "    L= 0.09 #W/mK\n",
    "    print(\"Hi there I am wood!\")\n",
    "else:\n",
    "    print(\"I am sorry I dont have this material's properties \")\n",
    "    \n",
    "    "
   ]
  },
  {
   "cell_type": "code",
   "execution_count": 42,
   "metadata": {},
   "outputs": [
    {
     "data": {
      "text/plain": [
       "True"
      ]
     },
     "execution_count": 42,
     "metadata": {},
     "output_type": "execute_result"
    }
   ],
   "source": [
    "component == \"wood 90mm\""
   ]
  },
  {
   "cell_type": "code",
   "execution_count": 46,
   "metadata": {},
   "outputs": [
    {
     "name": "stdout",
     "output_type": "stream",
     "text": [
      "please insert your age: 25\n",
      "Enjoy it!\n"
     ]
    }
   ],
   "source": [
    "age =int(raw_input(\"please insert your age: \"))\n",
    "if age < 18:\n",
    "    print(\"you are just a kid!\")\n",
    "elif (age>17 and age<30):\n",
    "    print(\"Enjoy it!\")\n",
    "else:\n",
    "    print(\"The slope is downwards! sorry!\")"
   ]
  },
  {
   "cell_type": "markdown",
   "metadata": {},
   "source": [
    "### review of indexes in strings"
   ]
  },
  {
   "cell_type": "code",
   "execution_count": 53,
   "metadata": {},
   "outputs": [
    {
     "name": "stdout",
     "output_type": "stream",
     "text": [
      "S\n",
      "g\n",
      "Sa\n",
      "antiago\n",
      "tiag\n",
      "Sant\n"
     ]
    }
   ],
   "source": [
    "name = \"Santiago\"\n",
    "print(name[0])\n",
    "print(name[-2])\n",
    "print(name[0:2])\n",
    "print(name[1:])\n",
    "print(name[3:-1])\n",
    "print(name[:4])"
   ]
  },
  {
   "cell_type": "markdown",
   "metadata": {},
   "source": [
    "## Lists !!!"
   ]
  },
  {
   "cell_type": "code",
   "execution_count": 61,
   "metadata": {},
   "outputs": [
    {
     "name": "stdout",
     "output_type": "stream",
     "text": [
      "34\n",
      "[28, 34]\n",
      "[17, 28]\n"
     ]
    }
   ],
   "source": [
    "L1 = [17,28,34,48]\n",
    "print(L1[2])\n",
    "print(L1[1:3])\n",
    "print(L1[:2])"
   ]
  },
  {
   "cell_type": "code",
   "execution_count": 63,
   "metadata": {},
   "outputs": [],
   "source": [
    "names = [\"Luca\",\"Santiago\",\"Sara\",\"Luigi\",\"John\"]"
   ]
  },
  {
   "cell_type": "code",
   "execution_count": 67,
   "metadata": {},
   "outputs": [
    {
     "name": "stdout",
     "output_type": "stream",
     "text": [
      "['Santiago', 'Sara']\n",
      "ti\n"
     ]
    }
   ],
   "source": [
    "print(names[1:3])\n",
    "print(names[1][3:5])"
   ]
  },
  {
   "cell_type": "code",
   "execution_count": 68,
   "metadata": {},
   "outputs": [
    {
     "name": "stdout",
     "output_type": "stream",
     "text": [
      "ra\n"
     ]
    }
   ],
   "source": [
    "print(names[2][-2:])"
   ]
  },
  {
   "cell_type": "code",
   "execution_count": 69,
   "metadata": {},
   "outputs": [],
   "source": [
    "L2 = [\"Santiago\",4, 8.9, False]"
   ]
  },
  {
   "cell_type": "code",
   "execution_count": 70,
   "metadata": {},
   "outputs": [
    {
     "name": "stdout",
     "output_type": "stream",
     "text": [
      "8.9\n"
     ]
    }
   ],
   "source": [
    "print(L2[2])"
   ]
  },
  {
   "cell_type": "code",
   "execution_count": 77,
   "metadata": {},
   "outputs": [
    {
     "data": {
      "text/plain": [
       "[1, 4, 8.9, False]"
      ]
     },
     "execution_count": 77,
     "metadata": {},
     "output_type": "execute_result"
    }
   ],
   "source": [
    "L2[0] = 1\n",
    "L2"
   ]
  },
  {
   "cell_type": "code",
   "execution_count": 84,
   "metadata": {},
   "outputs": [
    {
     "data": {
      "text/plain": [
       "[1, 4, 8.9, 10, 10, 11]"
      ]
     },
     "execution_count": 84,
     "metadata": {},
     "output_type": "execute_result"
    }
   ],
   "source": [
    "L2[-1]=10\n",
    "##L2[4] = 11  #this does not work, you should use append\n",
    "L2.append(11) # adds it at the end \n"
   ]
  },
  {
   "cell_type": "code",
   "execution_count": 88,
   "metadata": {},
   "outputs": [
    {
     "data": {
      "text/plain": [
       "[1, 4, 12, 12, 8.9, 10, 10, 11, 2, 2]"
      ]
     },
     "execution_count": 88,
     "metadata": {},
     "output_type": "execute_result"
    }
   ],
   "source": [
    "L2.insert(2,12) # index and then element\n",
    "L2"
   ]
  },
  {
   "cell_type": "code",
   "execution_count": 89,
   "metadata": {},
   "outputs": [],
   "source": [
    "R1 = [\"R_Foam\",\"cond\",0.06, 0.78,15]"
   ]
  },
  {
   "cell_type": "code",
   "execution_count": 98,
   "metadata": {},
   "outputs": [
    {
     "name": "stdout",
     "output_type": "stream",
     "text": [
      "['R_Foam', 'cond', 0.06, 0.78, 15, 0.005128205128205127]\n"
     ]
    }
   ],
   "source": [
    "R1 = [\"R_Foam\",\"cond\",0.06, 0.78,15]\n",
    "#L_R1 = R1[2]\n",
    "#k_R1 = R1[3]\n",
    "#A_R1 = R1[4]\n",
    "#R_Value = float(L_R1)/(k_R1*A_R1)\n",
    "R_Value = float(R1[2])/(R1[3]*R1[4])\n",
    "R1.append(R_Value)\n",
    "print(R1)\n",
    "\n",
    "R1 = [\"R_Foam\",\"cond\",0.06, 0.78,15]\n"
   ]
  },
  {
   "cell_type": "code",
   "execution_count": 100,
   "metadata": {},
   "outputs": [],
   "source": [
    "R1 = [\"R_Foam\",\"cond\",0.06, 0.045,15]\n",
    "R2 = [\"R_wood\",\"cond\",0.1, 0.6,15]\n",
    "R3 = [\"R_plaster\",\"cond\",0.01, 1,15]"
   ]
  },
  {
   "cell_type": "markdown",
   "metadata": {},
   "source": [
    "## For loop"
   ]
  },
  {
   "cell_type": "code",
   "execution_count": null,
   "metadata": {},
   "outputs": [],
   "source": []
  },
  {
   "cell_type": "code",
   "execution_count": 91,
   "metadata": {},
   "outputs": [
    {
     "name": "stdout",
     "output_type": "stream",
     "text": [
      "1\n",
      "2\n",
      "5\n",
      "7\n"
     ]
    }
   ],
   "source": [
    "L1 = [1,2,5,7]\n",
    "for philippe in L1:\n",
    "    print(philippe)\n",
    "    \n",
    "\n",
    "    "
   ]
  },
  {
   "cell_type": "code",
   "execution_count": 93,
   "metadata": {},
   "outputs": [
    {
     "name": "stdout",
     "output_type": "stream",
     "text": [
      "1\n",
      "2\n",
      "5\n",
      "7\n"
     ]
    }
   ],
   "source": [
    "for anyItem in L1:\n",
    "    print(anyItem) "
   ]
  },
  {
   "cell_type": "code",
   "execution_count": 102,
   "metadata": {},
   "outputs": [
    {
     "name": "stdout",
     "output_type": "stream",
     "text": [
      "[['R_Foam', 'cond', 0.06, 0.045, 15], ['R_wood', 'cond', 0.1, 0.6, 15], ['R_plaster', 'cond', 0.01, 1, 15]]\n",
      "15\n"
     ]
    }
   ],
   "source": [
    "ResistancesList = [R1,R2,R3] \n",
    "print(ResistancesList)\n",
    "print(ResistancesList[0][-1])"
   ]
  },
  {
   "cell_type": "code",
   "execution_count": 114,
   "metadata": {},
   "outputs": [
    {
     "name": "stdout",
     "output_type": "stream",
     "text": [
      "[['R_Foam', 'cond', 0.06, 0.045, 15, 0.08888888888888889], ['R_wood', 'cond', 0.1, 0.6, 15, 0.011111111111111112], ['R_plaster', 'cond', 0.01, 1, 15, 0.0006666666666666666]]\n",
      "the total resistance is 0.100666666667degC/w\n",
      "[['R_internal', 'conv', 10, 15, 0.0006666666666666666], ['R_Foam', 'cond', 0.06, 0.045, 15, 0.08888888888888889, 0.08888888888888889], ['R_wood', 'cond', 0.1, 0.6, 15, 0.011111111111111112, 0.011111111111111112], ['R_plaster', 'cond', 0.01, 1, 15, 0.0006666666666666666, 0.0006666666666666666], ['R_external', 'conv', 40, 15, 0.0006666666666666666]]\n",
      "the total resistance is 0.202666666667degC/w\n"
     ]
    }
   ],
   "source": [
    "R1 = [\"R_Foam\",\"cond\",0.06, 0.045,15]\n",
    "R2 = [\"R_wood\",\"cond\",0.1, 0.6,15]\n",
    "R3 = [\"R_plaster\",\"cond\",0.01, 1,15]\n",
    "ResistancesList = [R1,R2,R3] \n",
    "R_total = 0\n",
    "for anyResistance in ResistancesList:\n",
    "    #print(anyResistance)\n",
    "    R_Value = float(anyResistance[2])/(anyResistance[3]*anyResistance[4])\n",
    "    R_total = R_total+R_Value\n",
    "    anyResistance.append(R_Value)\n",
    "print(ResistancesList)    \n",
    "print(\"the total resistance is \"+str(R_total)+ \"degC/w\")\n",
    "    \n",
    " # what if we have convective resistances!\n",
    "R_internal = [\"R_internal\",\"conv\",10,15]\n",
    "R_external = [\"R_external\",\"conv\",40,15]\n",
    "\n",
    "R_value  = 1/(R_internal[2]*R_internal[3])\n",
    "    \n",
    "ResistancesList = [R_internal,R1,R2,R3,R_external] \n",
    "\n",
    "\n",
    "for anyResistance in ResistancesList:\n",
    "    #print(anyResistance)\n",
    "    if anyResistance[1]==\"cond\":\n",
    "        R_Value = float(anyResistance[2])/(anyResistance[3]*anyResistance[4])\n",
    "        R_total = R_total+R_Value\n",
    "        anyResistance.append(R_Value)\n",
    "    elif anyResistance[1]==\"conv\":\n",
    "        R_value  = 1/(anyResistance[2]*anyResistance[3])\n",
    "        R_total = R_total+R_Value\n",
    "        anyResistance.append(R_Value)\n",
    "        \n",
    "print(ResistancesList)    \n",
    "\n",
    "print(\"the total resistance is \"+str(R_total)+ \"degC/w\")\n",
    "    \n",
    "   "
   ]
  }
 ],
 "metadata": {
  "kernelspec": {
   "display_name": "Python 2",
   "language": "python",
   "name": "python2"
  },
  "language_info": {
   "codemirror_mode": {
    "name": "ipython",
    "version": 2
   },
   "file_extension": ".py",
   "mimetype": "text/x-python",
   "name": "python",
   "nbconvert_exporter": "python",
   "pygments_lexer": "ipython2",
   "version": "2.7.15"
  }
 },
 "nbformat": 4,
 "nbformat_minor": 2
}
