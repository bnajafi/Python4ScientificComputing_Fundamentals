{
 "cells": [
  {
   "cell_type": "markdown",
   "metadata": {},
   "source": [
    "# Functions !!\n"
   ]
  },
  {
   "cell_type": "code",
   "execution_count": 1,
   "metadata": {},
   "outputs": [],
   "source": [
    "def PowerOfN(x,n):\n",
    "    y = x**n\n",
    "    z = y+3\n",
    "    return y\n"
   ]
  },
  {
   "cell_type": "code",
   "execution_count": 5,
   "metadata": {},
   "outputs": [],
   "source": [
    "result = PowerOfN(x=3,n=2)\n"
   ]
  },
  {
   "cell_type": "code",
   "execution_count": 11,
   "metadata": {},
   "outputs": [],
   "source": [
    "def PowerOfNV2(x,n=2):\n",
    "    y = x**n\n",
    "    z = y+3\n",
    "    return y\n",
    "\n",
    "\n"
   ]
  },
  {
   "cell_type": "code",
   "execution_count": 12,
   "metadata": {},
   "outputs": [
    {
     "name": "stdout",
     "output_type": "stream",
     "text": [
      "125\n"
     ]
    }
   ],
   "source": [
    "print(PowerOfNV2(x=5, n=3))\n",
    "\n"
   ]
  },
  {
   "cell_type": "code",
   "execution_count": 17,
   "metadata": {},
   "outputs": [],
   "source": [
    "def epsilonEffective(epsilon1 = 0.9,epsilon2= 0.9):\n",
    "    \"\"\"This Function simply calculates the epsilon effective, if you don not\n",
    "    specifiy the values it considers them to be 0.9 by default\"\"\"\n",
    "    \n",
    "    result =  1.0/(1/epsilon1+1/epsilon2-1) # here I just implement the epsilon effective formula\n",
    "    return result\n",
    "\n",
    "    \n",
    "    "
   ]
  },
  {
   "cell_type": "code",
   "execution_count": null,
   "metadata": {},
   "outputs": [],
   "source": []
  },
  {
   "cell_type": "code",
   "execution_count": 18,
   "metadata": {},
   "outputs": [
    {
     "name": "stdout",
     "output_type": "stream",
     "text": [
      "0.0497237569061\n"
     ]
    }
   ],
   "source": [
    "myResult = epsilonEffective(epsilon1 = 0.05)\n",
    "print(myResult)"
   ]
  },
  {
   "cell_type": "code",
   "execution_count": null,
   "metadata": {},
   "outputs": [],
   "source": []
  },
  {
   "cell_type": "code",
   "execution_count": null,
   "metadata": {},
   "outputs": [],
   "source": []
  },
  {
   "cell_type": "code",
   "execution_count": 19,
   "metadata": {},
   "outputs": [
    {
     "name": "stdout",
     "output_type": "stream",
     "text": [
      "Help on function epsilonEffective in module __main__:\n",
      "\n",
      "epsilonEffective(epsilon1=0.9, epsilon2=0.9)\n",
      "    This Function simply calculates the epsilon effective, if you don not\n",
      "    specifiy the values it considers them to be 0.9 by default\n",
      "\n"
     ]
    }
   ],
   "source": [
    "help(epsilonEffective)\n"
   ]
  },
  {
   "cell_type": "code",
   "execution_count": 21,
   "metadata": {},
   "outputs": [
    {
     "name": "stdout",
     "output_type": "stream",
     "text": [
      "[0.049723756906077346, 0.29032258064516125, 0.6494845360824743, 0.11842105263157894, 0.47368421052631576, 0.8181818181818181]\n"
     ]
    }
   ],
   "source": [
    "myEpsilons = [0.05,0.3,0.7, 0.12,0.5,0.9]\n",
    "MyEffectiveEpsilons = []\n",
    "for rafael in myEpsilons:\n",
    "    MyEffectiveEpsilons.append(epsilonEffective(rafael))\n",
    "print(MyEffectiveEpsilons)\n",
    "    "
   ]
  },
  {
   "cell_type": "code",
   "execution_count": null,
   "metadata": {},
   "outputs": [],
   "source": []
  },
  {
   "cell_type": "code",
   "execution_count": 22,
   "metadata": {},
   "outputs": [],
   "source": [
    "def epsilonEffectiveVectorialOtherBuildingMat(receivedListOFepsilons):\n",
    "    \"\"\"This function receives a list of emissivities and find the corresponding \n",
    "    effective emissivity in case the other side would be building material -> epsilon = 0.9\n",
    "    \"\"\"\n",
    "    calculatedepsilonEffectiveS = []\n",
    "    epsilon2 = 0.9 # fixed value \n",
    "    for epsilon1 in receivedListOFepsilons:\n",
    "        epsilonEffective =1.0/(1/epsilon1+1/epsilon2-1) \n",
    "        calculatedepsilonEffectiveS.append(epsilonEffective)\n",
    "        \n",
    "    return calculatedepsilonEffectiveS"
   ]
  },
  {
   "cell_type": "code",
   "execution_count": 25,
   "metadata": {},
   "outputs": [
    {
     "name": "stdout",
     "output_type": "stream",
     "text": [
      "[0.7346938775510203, 0.6494845360824743, 0.29032258064516125]\n"
     ]
    }
   ],
   "source": [
    "santiagosNewListOFEps = [0.8,0.7,0.3]\n",
    "outPutResultsOFEffectiveEps = epsilonEffectiveVectorialOtherBuildingMat(santiagosNewListOFEps)\n",
    "print(outPutResultsOFEffectiveEps)\n"
   ]
  },
  {
   "cell_type": "code",
   "execution_count": null,
   "metadata": {},
   "outputs": [],
   "source": [
    "\n",
    "\n",
    "\n",
    "def ResitanceCalculatorWithLibrary(ListOfResistances):\n",
    "    ThermalResDict = {\"FaceBrick\":{\"R\":0.075, \"length\":0.1}\n",
    "    , \"woodStud_90mm\":{\"R\":0.36, \"length\":0.09}\n",
    "    , \"woodFiberBoard\":{\"R\":0.23, \"length\":0.013}\n",
    "    , \"woodLappedSiding\":{\"R\":0.14, \"length\":0.013}\n",
    "    , \"gypsum\":{\"R\":0.079, \"length\":0.013}\n",
    "    , \"insideSurface\":{\"R\":0.12}\n",
    "    , \"outsideSurfaceWinter\":{\"R\":0.03}\n",
    "    , \"outsideSurfaceSummer\":{\"R\":0.044}\n",
    "    }\n",
    "    \n",
    "    \n",
    "    \n",
    "\n",
    "    \n",
    "    \n"
   ]
  },
  {
   "cell_type": "code",
   "execution_count": null,
   "metadata": {},
   "outputs": [],
   "source": [
    "R_6 = {\"name\":\"Gypsum Wallboard\",\"type\":\"cond\",\"material\":\"gypsum\", \"length\":0.013}\n",
    "R_2 = {\"name\":\"wood bevel lapped Siding\",\"type\":\"cond\",\"material\":\"woodLappedSiding\", \"length\":0.013}\n",
    "R_i =  {\"name\":\"inside surface\",\"type\":\"conv\",\"material\":\"insideSurface\"}\n",
    "\n",
    "resistancList = [R_6, R_2,R_i]\n"
   ]
  }
 ],
 "metadata": {
  "kernelspec": {
   "display_name": "Python 2",
   "language": "python",
   "name": "python2"
  },
  "language_info": {
   "codemirror_mode": {
    "name": "ipython",
    "version": 2
   },
   "file_extension": ".py",
   "mimetype": "text/x-python",
   "name": "python",
   "nbconvert_exporter": "python",
   "pygments_lexer": "ipython2",
   "version": "2.7.15"
  }
 },
 "nbformat": 4,
 "nbformat_minor": 2
}
