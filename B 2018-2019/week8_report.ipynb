{
 "cells": [
  {
   "cell_type": "markdown",
   "metadata": {},
   "source": [
    "## Assignment 9"
   ]
  },
  {
   "cell_type": "markdown",
   "metadata": {},
   "source": [
    "This is just a report of my assignment\n",
    "The first thing I should do is to import needed modules"
   ]
  },
  {
   "cell_type": "code",
   "execution_count": 8,
   "metadata": {
    "collapsed": true
   },
   "outputs": [],
   "source": [
    "import pandas as pd\n",
    "import os"
   ]
  },
  {
   "cell_type": "markdown",
   "metadata": {},
   "source": [
    "Next, I want to import my main windows Table"
   ]
  },
  {
   "cell_type": "code",
   "execution_count": 6,
   "metadata": {
    "collapsed": true
   },
   "outputs": [],
   "source": [
    "Folder_whereThoseTablesAre = r\"C:\\Users\\behzad\\Dropbox\\2 Teaching Activities\\0 EETBS 2018\\forked_repos\\Python4ScientificComputing_Fundamentals\\A 2018-2019\\Tables\"\n",
    "name_file_windows = \"windows.csv\"\n",
    "path_file_windows = os.path.join(Folder_whereThoseTablesAre,name_file_windows) \n",
    "window_DF = pd.read_csv(path_file_windows, sep=\";\", index_col = 0, header=0) \n"
   ]
  },
  {
   "cell_type": "markdown",
   "metadata": {},
   "source": [
    "Now, let's see how  my windows table looks like!"
   ]
  },
  {
   "cell_type": "code",
   "execution_count": 7,
   "metadata": {
    "collapsed": false
   },
   "outputs": [
    {
     "data": {
      "text/html": [
       "<div>\n",
       "<style scoped>\n",
       "    .dataframe tbody tr th:only-of-type {\n",
       "        vertical-align: middle;\n",
       "    }\n",
       "\n",
       "    .dataframe tbody tr th {\n",
       "        vertical-align: top;\n",
       "    }\n",
       "\n",
       "    .dataframe thead th {\n",
       "        text-align: right;\n",
       "    }\n",
       "</style>\n",
       "<table border=\"1\" class=\"dataframe\">\n",
       "  <thead>\n",
       "    <tr style=\"text-align: right;\">\n",
       "      <th></th>\n",
       "      <th>Direction</th>\n",
       "      <th>width</th>\n",
       "      <th>Height</th>\n",
       "      <th>Area</th>\n",
       "      <th>Window_ID</th>\n",
       "      <th>Frame_type</th>\n",
       "      <th>Frame_material</th>\n",
       "      <th>U</th>\n",
       "      <th>SHGC</th>\n",
       "      <th>HF</th>\n",
       "      <th>...</th>\n",
       "      <th>IAC_cl</th>\n",
       "      <th>IAC</th>\n",
       "      <th>Tx</th>\n",
       "      <th>Ed</th>\n",
       "      <th>ED</th>\n",
       "      <th>PXI</th>\n",
       "      <th>FFs</th>\n",
       "      <th>C_value</th>\n",
       "      <th>CF</th>\n",
       "      <th>Qcooling</th>\n",
       "    </tr>\n",
       "    <tr>\n",
       "      <th>Name</th>\n",
       "      <th></th>\n",
       "      <th></th>\n",
       "      <th></th>\n",
       "      <th></th>\n",
       "      <th></th>\n",
       "      <th></th>\n",
       "      <th></th>\n",
       "      <th></th>\n",
       "      <th></th>\n",
       "      <th></th>\n",
       "      <th></th>\n",
       "      <th></th>\n",
       "      <th></th>\n",
       "      <th></th>\n",
       "      <th></th>\n",
       "      <th></th>\n",
       "      <th></th>\n",
       "      <th></th>\n",
       "      <th></th>\n",
       "      <th></th>\n",
       "      <th></th>\n",
       "    </tr>\n",
       "  </thead>\n",
       "  <tbody>\n",
       "    <tr>\n",
       "      <th>east</th>\n",
       "      <td>E</td>\n",
       "      <td>8</td>\n",
       "      <td>1.8</td>\n",
       "      <td>14.4</td>\n",
       "      <td>5c</td>\n",
       "      <td>Fixed</td>\n",
       "      <td>Wood</td>\n",
       "      <td>0</td>\n",
       "      <td>0</td>\n",
       "      <td>0</td>\n",
       "      <td>...</td>\n",
       "      <td>0</td>\n",
       "      <td>0</td>\n",
       "      <td>1.00</td>\n",
       "      <td>0</td>\n",
       "      <td>0</td>\n",
       "      <td>0</td>\n",
       "      <td>0</td>\n",
       "      <td>0</td>\n",
       "      <td>0</td>\n",
       "      <td>0</td>\n",
       "    </tr>\n",
       "    <tr>\n",
       "      <th>west</th>\n",
       "      <td>W</td>\n",
       "      <td>8</td>\n",
       "      <td>1.8</td>\n",
       "      <td>14.4</td>\n",
       "      <td>5c</td>\n",
       "      <td>Fixed</td>\n",
       "      <td>Wood</td>\n",
       "      <td>0</td>\n",
       "      <td>0</td>\n",
       "      <td>0</td>\n",
       "      <td>...</td>\n",
       "      <td>0</td>\n",
       "      <td>0</td>\n",
       "      <td>1.00</td>\n",
       "      <td>0</td>\n",
       "      <td>0</td>\n",
       "      <td>0</td>\n",
       "      <td>0</td>\n",
       "      <td>0</td>\n",
       "      <td>0</td>\n",
       "      <td>0</td>\n",
       "    </tr>\n",
       "    <tr>\n",
       "      <th>south-Fixed</th>\n",
       "      <td>S</td>\n",
       "      <td>2</td>\n",
       "      <td>1.8</td>\n",
       "      <td>3.6</td>\n",
       "      <td>5c</td>\n",
       "      <td>Fixed</td>\n",
       "      <td>Wood</td>\n",
       "      <td>0</td>\n",
       "      <td>0</td>\n",
       "      <td>0</td>\n",
       "      <td>...</td>\n",
       "      <td>0</td>\n",
       "      <td>0</td>\n",
       "      <td>1.00</td>\n",
       "      <td>0</td>\n",
       "      <td>0</td>\n",
       "      <td>0</td>\n",
       "      <td>0</td>\n",
       "      <td>0</td>\n",
       "      <td>0</td>\n",
       "      <td>0</td>\n",
       "    </tr>\n",
       "    <tr>\n",
       "      <th>south-Operable</th>\n",
       "      <td>S</td>\n",
       "      <td>2</td>\n",
       "      <td>1.8</td>\n",
       "      <td>3.6</td>\n",
       "      <td>5c</td>\n",
       "      <td>Operable</td>\n",
       "      <td>Wood</td>\n",
       "      <td>0</td>\n",
       "      <td>0</td>\n",
       "      <td>0</td>\n",
       "      <td>...</td>\n",
       "      <td>0</td>\n",
       "      <td>0</td>\n",
       "      <td>0.64</td>\n",
       "      <td>0</td>\n",
       "      <td>0</td>\n",
       "      <td>0</td>\n",
       "      <td>0</td>\n",
       "      <td>0</td>\n",
       "      <td>0</td>\n",
       "      <td>0</td>\n",
       "    </tr>\n",
       "  </tbody>\n",
       "</table>\n",
       "<p>4 rows × 27 columns</p>\n",
       "</div>"
      ],
      "text/plain": [
       "               Direction  width  Height  Area Window_ID Frame_type  \\\n",
       "Name                                                                 \n",
       "east                   E      8     1.8  14.4        5c      Fixed   \n",
       "west                   W      8     1.8  14.4        5c      Fixed   \n",
       "south-Fixed            S      2     1.8   3.6        5c      Fixed   \n",
       "south-Operable         S      2     1.8   3.6        5c   Operable   \n",
       "\n",
       "               Frame_material  U  SHGC  HF    ...     IAC_cl  IAC    Tx  Ed  \\\n",
       "Name                                          ...                             \n",
       "east                     Wood  0     0   0    ...          0    0  1.00   0   \n",
       "west                     Wood  0     0   0    ...          0    0  1.00   0   \n",
       "south-Fixed              Wood  0     0   0    ...          0    0  1.00   0   \n",
       "south-Operable           Wood  0     0   0    ...          0    0  0.64   0   \n",
       "\n",
       "                ED PXI  FFs  C_value  CF  Qcooling  \n",
       "Name                                                \n",
       "east             0   0    0        0   0         0  \n",
       "west             0   0    0        0   0         0  \n",
       "south-Fixed      0   0    0        0   0         0  \n",
       "south-Operable   0   0    0        0   0         0  \n",
       "\n",
       "[4 rows x 27 columns]"
      ]
     },
     "execution_count": 7,
     "metadata": {},
     "output_type": "execute_result"
    }
   ],
   "source": [
    "window_DF"
   ]
  },
  {
   "cell_type": "code",
   "execution_count": null,
   "metadata": {
    "collapsed": true
   },
   "outputs": [],
   "source": []
  }
 ],
 "metadata": {
  "kernelspec": {
   "display_name": "Python [conda env:Anaconda2]",
   "language": "python",
   "name": "conda-env-Anaconda2-py"
  },
  "language_info": {
   "codemirror_mode": {
    "name": "ipython",
    "version": 2
   },
   "file_extension": ".py",
   "mimetype": "text/x-python",
   "name": "python",
   "nbconvert_exporter": "python",
   "pygments_lexer": "ipython2",
   "version": "2.7.12"
  }
 },
 "nbformat": 4,
 "nbformat_minor": 1
}
